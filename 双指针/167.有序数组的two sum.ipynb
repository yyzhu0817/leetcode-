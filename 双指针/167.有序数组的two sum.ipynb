{
 "cells": [
  {
   "cell_type": "code",
   "execution_count": 4,
   "metadata": {
    "Collapsed": "false"
   },
   "outputs": [
    {
     "data": {
      "text/plain": [
       "[2, 2]"
      ]
     },
     "execution_count": 4,
     "metadata": {},
     "output_type": "execute_result"
    }
   ],
   "source": [
    "class Solution:\n",
    "    def twoSum(self, number, target):\n",
    "        i = 0\n",
    "        j = len(number) - 1\n",
    "        while i < j:\n",
    "            if number[i] + number[j] != target and i < j:\n",
    "                i += 1\n",
    "            if number[i] + number[j] != target and i < j:\n",
    "                j -= 1\n",
    "            else :\n",
    "                return [i,j]\n",
    "s = Solution()\n",
    "numbers = [2, 7, 11, 15]\n",
    "target = 9\n",
    "s.twoSum(numbers,target)\n",
    "            "
   ]
  },
  {
   "cell_type": "code",
   "execution_count": null,
   "metadata": {
    "Collapsed": "false"
   },
   "outputs": [],
   "source": []
  }
 ],
 "metadata": {
  "kernelspec": {
   "display_name": "PyCharm (Code)",
   "language": "python",
   "name": "pycharm-6c12d93e"
  },
  "language_info": {
   "codemirror_mode": {
    "name": "ipython",
    "version": 3
   },
   "file_extension": ".py",
   "mimetype": "text/x-python",
   "name": "python",
   "nbconvert_exporter": "python",
   "pygments_lexer": "ipython3",
   "version": "3.7.4"
  }
 },
 "nbformat": 4,
 "nbformat_minor": 4
}
